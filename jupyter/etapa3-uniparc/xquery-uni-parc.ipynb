{
 "cells": [
  {
   "cell_type": "markdown",
   "metadata": {},
   "source": [
    "# XPath e XQuery"
   ]
  },
  {
   "cell_type": "markdown",
   "metadata": {},
   "source": [
    "# Base de dados e proposta\n",
    "A base escolhida para essa análise é  a : https://www.uniprot.org/uniparc/\n",
    "\n",
    "O UniParc é um banco de dados abrangente e não redundante que contém a maioria das seqüências de proteínas publicamente disponíveis no mundo. Optamos por fazer uma análise das 250 primeiras proteínas pois elas estão relacionadas em sua maioria a vírus contidos em vacinas e acreditamos que informações úteis podem ser retiradas dessa base. \n",
    "\n",
    "Entre os dados que ela contém estão:\n",
    "    * type\n",
    "    * id\n",
    "    * version\n",
    "    * active\n",
    "    * version\n",
    "    * created \n",
    "    * last\n",
    "    * NCBI_taxonomy_id\n",
    "    * protein_name\n",
    "    * gene_name\n",
    "    \n",
    " Para execução desse trabalho utilizamos o XBase abaixo segue a correspondencia da linguagem\n",
    "     1)     / ->  /*:\n",
    "     2)    // -> //*:\n",
    "     3)text() -> data()"
   ]
  },
  {
   "cell_type": "markdown",
   "metadata": {},
   "source": [
    "## Proposta 1:\n",
    "É comum que algumas pessoas tenham alergia a alguns tipos de proteina, e isso é especialmente perigoso caso se essa proteina estiver relacionada a algum tipo de organismos contidos em vacinas, portanto uma pesquisa interessante é retornar todas as vacinas relacionadas a algum tipo de proteina\n",
    "\n",
    "```xquery\n",
    "let $doc := doc(\"uniparc-250.xml\")\n",
    "for $p in $doc//*:dbReference\n",
    "   where contains(data($p/*:property[@type= 'gene_name']/@value), 'VAC') and $p/*:property[@type='NCBI_taxonomy_id']/@value != '10245'\n",
    "return $p\n",
    "```"
   ]
  },
  {
   "cell_type": "markdown",
   "metadata": {},
   "source": [
    "**Algumas Respostas:** \n",
    "```xml\n",
    "<dbReference xmlns=\"http://uniprot.org/uniparc\" xmlns:xsi=\"http://www.w3.org/2001/XMLSchema-instance\" type=\"UniProtKB/Swiss-Prot\" id=\"P68446\" version_i=\"3\" active=\"Y\" version=\"3\" created=\"2007-01-23\" last=\"2019-10-16\">\n",
    "  <property type=\"NCBI_GI\" value=\"55977540\"/>\n",
    "  <property type=\"NCBI_taxonomy_id\" value=\"10254\"/>\n",
    "  <property type=\"protein_name\" value=\"Protein E7\"/>\n",
    "  <property type=\"gene_name\" value=\"VACWR063\"/>\n",
    "</dbReference>\n",
    "<dbReference xmlns=\"http://uniprot.org/uniparc\" xmlns:xsi=\"http://www.w3.org/2001/XMLSchema-instance\" type=\"EMBL\" id=\"AAO89342\" version_i=\"1\" active=\"Y\" version=\"1\" created=\"2003-06-16\" last=\"2019-05-31\">\n",
    "  <property type=\"NCBI_GI\" value=\"29692169\"/>\n",
    "  <property type=\"NCBI_taxonomy_id\" value=\"10254\"/>\n",
    "  <property type=\"protein_name\" value=\"soluble, myristylprotein\"/>\n",
    "  <property type=\"gene_name\" value=\"VACWR063\"/>\n",
    "  <property type=\"proteome_id\" value=\"UP000000344\"/>\n",
    "  <property type=\"component\" value=\"Genome\"/>\n",
    "</dbReference>\n",
    "<dbReference xmlns=\"http://uniprot.org/uniparc\" xmlns:xsi=\"http://www.w3.org/2001/XMLSchema-instance\" type=\"UniProtKB/Swiss-Prot\" id=\"P23373\" version_i=\"1\" active=\"Y\" version=\"1\" created=\"1991-11-01\" last=\"2019-10-16\">\n",
    "  <property type=\"NCBI_GI\" value=\"137632\"/>\n",
    "  <property type=\"NCBI_taxonomy_id\" value=\"10254\"/>\n",
    "  <property type=\"protein_name\" value=\"Probable FAD-linked sulfhydryl oxidase E10\"/>\n",
    "  <property type=\"gene_name\" value=\"VACWR066\"/>\n",
    "</dbReference>\n",
    "```"
   ]
  },
  {
   "cell_type": "markdown",
   "metadata": {},
   "source": [
    "## Proposta 2:\n",
    "Pode ser interessante analisarmos o total de proteinas relacionadas com a mesma taxonomia  \n",
    "\n",
    "```xquer\n",
    "let $doc := doc(\"uniparc-250.xml\")\n",
    "return count($doc//*:property[@type= 'NCBI_taxonomy_id'][@value= '32606'])\n",
    "```"
   ]
  },
  {
   "cell_type": "markdown",
   "metadata": {},
   "source": [
    "**Resposta:** 70"
   ]
  },
  {
   "cell_type": "markdown",
   "metadata": {},
   "source": [
    "## Proposta 3\n",
    "Agrupar todas as proteinas com um mesmo proteoma também facilita uma série de analises\n",
    "```xml\n",
    "let $doc := doc(\"uniparc-250.xml\")\n",
    "return $doc//*:property[@type= 'proteome_id'][@value= 'UP000304398']\n",
    "```"
   ]
  },
  {
   "cell_type": "markdown",
   "metadata": {},
   "source": [
    "**Resposta:** \n",
    "```xml\n",
    "<property xmlns=\"http://uniprot.org/uniparc\" xmlns:xsi=\"http://www.w3.org/2001/XMLSchema-instance\" type=\"proteome_id\" value=\"UP000304398\"/>\n",
    "<property xmlns=\"http://uniprot.org/uniparc\" xmlns:xsi=\"http://www.w3.org/2001/XMLSchema-instance\" type=\"proteome_id\" value=\"UP000304398\"/>\n",
    "<property xmlns=\"http://uniprot.org/uniparc\" xmlns:xsi=\"http://www.w3.org/2001/XMLSchema-instance\" type=\"proteome_id\" value=\"UP000304398\"/>\n",
    "```"
   ]
  },
  {
   "cell_type": "markdown",
   "metadata": {},
   "source": [
    "## Proposta 4\n",
    "Encontrar todas as proteinas que tem mais de uma versão, pois isso significa que todas elas são sintéticas\n",
    "```xml\n",
    "let $doc := doc(\"uniparc-250.xml\")\n",
    "return $doc//*:dbReference[@version_i > 1]\n",
    "```"
   ]
  },
  {
   "cell_type": "markdown",
   "metadata": {},
   "source": [
    "**Algumas Respostas:** \n",
    "```xml\n",
    "<dbReference xmlns=\"http://uniprot.org/uniparc\" xmlns:xsi=\"http://www.w3.org/2001/XMLSchema-instance\" type=\"UniProtKB/Swiss-Prot\" id=\"P07612\" version_i=\"3\" active=\"Y\" version=\"3\" created=\"2007-01-23\" last=\"2019-10-16\">\n",
    "  <property type=\"NCBI_GI\" value=\"138624\"/>\n",
    "  <property type=\"NCBI_taxonomy_id\" value=\"10254\"/>\n",
    "  <property type=\"protein_name\" value=\"Protein L1\"/>\n",
    "  <property type=\"gene_name\" value=\"VACWR088\"/>\n",
    "</dbReference>\n",
    "<dbReference xmlns=\"http://uniprot.org/uniparc\" xmlns:xsi=\"http://www.w3.org/2001/XMLSchema-instance\" type=\"UniProtKB/Swiss-Prot\" id=\"P07618\" version_i=\"2\" active=\"Y\" version=\"2\" created=\"2004-12-07\" last=\"2019-10-16\">\n",
    "  <property type=\"NCBI_GI\" value=\"56405312\"/>\n",
    "  <property type=\"NCBI_taxonomy_id\" value=\"10254\"/>\n",
    "  <property type=\"protein_name\" value=\"Protein J5\"/>\n",
    "  <property type=\"gene_name\" value=\"VACWR097\"/>\n",
    "</dbReference>\n",
    "<dbReference xmlns=\"http://uniprot.org/uniparc\" xmlns:xsi=\"http://www.w3.org/2001/XMLSchema-instance\" type=\"PDB\" id=\"2VDW\" version_i=\"2\" active=\"N\" created=\"2008-10-13\" last=\"2009-07-29\">\n",
    "  <property type=\"chain\" value=\"B\"/>\n",
    "</dbReference>\n",
    "```"
   ]
  },
  {
   "cell_type": "markdown",
   "metadata": {},
   "source": [
    "## Proposta 5\n",
    "Encontrar todas as proteinas que tem mais de uma versão, e estão ativas\n",
    "```xml\n",
    "let $doc := doc(\"uniparc-250.xml\")\n",
    "return $doc//*:dbReference[@version_i > 1][@active='Y']\n",
    "```"
   ]
  },
  {
   "cell_type": "markdown",
   "metadata": {},
   "source": [
    "## Proposta 6\n",
    "Encontrar proteinas relacionadas a algum tipo de organismos contidos em vacinas\n",
    "```xml\n",
    "let $doc := doc(\"uniparc-250.xml\")\n",
    "for $p in $doc//*:dbReference\n",
    "   where contains(data($p/*:property[@type= 'gene_name']/@value), 'VAC')\n",
    "return $p\n",
    "```"
   ]
  },
  {
   "cell_type": "markdown",
   "metadata": {},
   "source": [
    "**Algumas Respostas:** \n",
    "```xml\n",
    "<dbReference xmlns=\"http://uniprot.org/uniparc\" xmlns:xsi=\"http://www.w3.org/2001/XMLSchema-instance\" type=\"UniProtKB/Swiss-Prot\" id=\"P68446\" version_i=\"3\" active=\"Y\" version=\"3\" created=\"2007-01-23\" last=\"2019-10-16\">\n",
    "  <property type=\"NCBI_GI\" value=\"55977540\"/>\n",
    "  <property type=\"NCBI_taxonomy_id\" value=\"10254\"/>\n",
    "  <property type=\"protein_name\" value=\"Protein E7\"/>\n",
    "  <property type=\"gene_name\" value=\"VACWR063\"/>\n",
    "</dbReference>\n",
    "<dbReference xmlns=\"http://uniprot.org/uniparc\" xmlns:xsi=\"http://www.w3.org/2001/XMLSchema-instance\" type=\"EMBL\" id=\"AAO89342\" version_i=\"1\" active=\"Y\" version=\"1\" created=\"2003-06-16\" last=\"2019-05-31\">\n",
    "  <property type=\"NCBI_GI\" value=\"29692169\"/>\n",
    "  <property type=\"NCBI_taxonomy_id\" value=\"10254\"/>\n",
    "  <property type=\"protein_name\" value=\"soluble, myristylprotein\"/>\n",
    "  <property type=\"gene_name\" value=\"VACWR063\"/>\n",
    "  <property type=\"proteome_id\" value=\"UP000000344\"/>\n",
    "  <property type=\"component\" value=\"Genome\"/>\n",
    "</dbReference>\n",
    "<dbReference xmlns=\"http://uniprot.org/uniparc\" xmlns:xsi=\"http://www.w3.org/2001/XMLSchema-instance\" type=\"UniProtKB/Swiss-Prot\" id=\"P23373\" version_i=\"1\" active=\"Y\" version=\"1\" created=\"1991-11-01\" last=\"2019-10-16\">\n",
    "  <property type=\"NCBI_GI\" value=\"137632\"/>\n",
    "  <property type=\"NCBI_taxonomy_id\" value=\"10254\"/>\n",
    "  <property type=\"protein_name\" value=\"Probable FAD-linked sulfhydryl oxidase E10\"/>\n",
    "  <property type=\"gene_name\" value=\"VACWR066\"/>\n",
    "</dbReference>\n",
    "```"
   ]
  },
  {
   "cell_type": "code",
   "execution_count": null,
   "metadata": {},
   "outputs": [],
   "source": []
  }
 ],
 "metadata": {
  "kernelspec": {
   "display_name": "Python 3",
   "language": "python",
   "name": "python3"
  },
  "language_info": {
   "codemirror_mode": {
    "name": "ipython",
    "version": 3
   },
   "file_extension": ".py",
   "mimetype": "text/x-python",
   "name": "python",
   "nbconvert_exporter": "python",
   "pygments_lexer": "ipython3",
   "version": "3.7.3"
  }
 },
 "nbformat": 4,
 "nbformat_minor": 2
}
