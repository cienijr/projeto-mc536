{
 "cells": [
  {
   "cell_type": "code",
   "execution_count": 102,
   "metadata": {},
   "outputs": [],
   "source": [
    "%defaultDatasource jdbc:h2:mem:db"
   ]
  },
  {
   "cell_type": "markdown",
   "metadata": {},
   "source": [
    "# SQL"
   ]
  },
  {
   "cell_type": "markdown",
   "metadata": {},
   "source": [
    "# Base de dados e proposta\n",
    "A base escolhida para essa análise foi a unipro(https://www.uniprot.org/diseases/), uma das bases cuja a qual virushost (https://www.genome.jp/virushostdb/) obtem seus dados.\n",
    "\n",
    "\n",
    "Optamos pela sub base UniProtKB pois ela contem dados mais específicos sobre doenças humanas nas quais as proteínas estão envolvidas "
   ]
  },
  {
   "cell_type": "markdown",
   "metadata": {},
   "source": [
    "# Criando tabela para analise\n",
    "\n"
   ]
  },
  {
   "cell_type": "code",
   "execution_count": 103,
   "metadata": {},
   "outputs": [
    {
     "data": {
      "application/vnd.jupyter.widget-view+json": {
       "model_id": "eac3e17a-3991-4305-9637-ef573be6c9bb",
       "version_major": 2,
       "version_minor": 0
      },
      "method": "display_data"
     },
     "metadata": {},
     "output_type": "display_data"
    }
   ],
   "source": [
    "DROP TABLE IF EXISTS Diseases;\n",
    "CREATE TABLE Diseases (\n",
    "  Id VARCHAR(8) NOT NULL,\n",
    "  Name VARCHAR(150) ,\n",
    "  Mnemonic VARCHAR(150) ,\n",
    "  Description VARCHAR(2000),\n",
    "  PRIMARY KEY(Id)               \n",
    ") AS SELECT\n",
    "  ID,Name,Mnemonic,Description\n",
    "FROM CSVREAD('diseases-all.csv',null, 'UTF-8', CHAR(9));\n",
    "\n",
    "SELECT * FROM Diseases;"
   ]
  },
  {
   "cell_type": "markdown",
   "metadata": {},
   "source": [
    "## Criando e padronizando tabela para análise"
   ]
  },
  {
   "cell_type": "code",
   "execution_count": 165,
   "metadata": {},
   "outputs": [
    {
     "data": {
      "application/vnd.jupyter.widget-view+json": {
       "model_id": "6b50c7f3-5dbc-43e0-b6be-a7d484177d76",
       "version_major": 2,
       "version_minor": 0
      },
      "method": "display_data"
     },
     "metadata": {},
     "output_type": "display_data"
    }
   ],
   "source": [
    "DROP TABLE IF EXISTS DiseasesAnalysis;\n",
    "CREATE TABLE DiseasesAnalysis (\n",
    "  Category VARCHAR(150),\n",
    "  Amount INTEGER);\n",
    "  \n",
    "DROP TABLE IF EXISTS DiseasesAnalysisAux;\n",
    "CREATE TABLE DiseasesAnalysisAux (\n",
    "  Category VARCHAR(150),\n",
    "  Amount INTEGER);\n",
    " \n",
    "INSERT INTO DiseasesAnalysisAux SELECT LOWER (Category), Count(*) Amount \n",
    "                                 FROM  (SELECT SUBSTRING(name, 1, CHARINDEX(',', name) - 1) Category FROM Diseases\n",
    "                                 GROUP BY Category) \n",
    "                                 WHERE Category NOT LIKE ''\n",
    "                                 GROUP BY Category; \n",
    "                                 \n",
    "INSERT INTO DiseasesAnalysisAux SELECT LOWER (name), Count(*) Amount \n",
    "                                 FROM  Diseases\n",
    "                                 WHERE CHARINDEX(',', name) = 0\n",
    "                                 GROUP BY name;   \n",
    "\n",
    "UPDATE DiseasesAnalysisAux  \n",
    "SET Category = SUBSTRING(Category, 1, LENGTH(Category)-3) \n",
    "WHERE SUBSTRING(Category, LENGTH(Category)-2, 1) IN ('0','1','2','3','4','5','6','7','8','9', ' ');\n",
    "\n",
    "UPDATE DiseasesAnalysisAux  \n",
    "SET Category = SUBSTRING(Category, 1, LENGTH(Category)-2) \n",
    "WHERE SUBSTRING(Category, LENGTH(Category)-1, 1) IN ('0','1','2','3','4','5','6','7','8','9', ' ');\n",
    "\n",
    "UPDATE DiseasesAnalysisAux  \n",
    "SET Category = SUBSTRING(Category, 1, LENGTH(Category)-1) \n",
    "WHERE SUBSTRING(Category, LENGTH(Category), 1) IN ('0','1','2','3','4','5','6','7','8','9', ' ', '-');\n",
    "\n",
    "DELETE FROM DiseasesAnalysisAux\n",
    "WHERE Category = ' ' OR\n",
    "      Category = '';\n",
    "      \n",
    "\n",
    "INSERT INTO DiseasesAnalysis SELECT Category, Count(*) Amount \n",
    "                             FROM  DiseasesAnalysisAux \n",
    "                             GROUP BY Category;\n",
    "\n",
    "DROP TABLE DiseasesAnalysisAux;\n",
    "\n",
    "INSERT INTO DiseasesAnalysis VALUES ('deficiency',(SELECT COUNT(*) FROM Diseases WHERE name LIKE '%deficiency%'));\n",
    "INSERT INTO DiseasesAnalysis VALUES ('congenital',(SELECT COUNT(*) FROM Diseases WHERE name LIKE '%congenital%'));\n",
    "INSERT INTO DiseasesAnalysis VALUES ('sex reversal',(SELECT COUNT(*) FROM Diseases WHERE name LIKE '%sex reversal%'));\n",
    "INSERT INTO DiseasesAnalysis VALUES ('insufficiency',(SELECT COUNT(*) FROM Diseases WHERE name LIKE '%insufficiency%'));\n",
    "INSERT INTO DiseasesAnalysis VALUES ('syndrome',(SELECT COUNT(*) FROM Diseases WHERE name LIKE '%syndrome%'));\n",
    "INSERT INTO DiseasesAnalysis VALUES ('autosomal recessive',(SELECT COUNT(*) FROM Diseases WHERE name LIKE '%autosomal recessive%'));\n",
    "INSERT INTO DiseasesAnalysis VALUES ('autosomal dominant',(SELECT COUNT(*) FROM Diseases WHERE name LIKE '%autosomal dominant%'));\n",
    "INSERT INTO DiseasesAnalysis VALUES ('hereditary',(SELECT COUNT(*) FROM Diseases WHERE name LIKE '%hereditary%'));\n",
    "INSERT INTO DiseasesAnalysis VALUES ('mitochondrial',(SELECT COUNT(*) FROM Diseases WHERE name LIKE '%mitochondrial%'));\n",
    "INSERT INTO DiseasesAnalysis VALUES ('juvenile',(SELECT COUNT(*) FROM Diseases WHERE name LIKE '%juvenile%'));\n",
    "INSERT INTO DiseasesAnalysis VALUES ('X-linked',(SELECT COUNT(*) FROM Diseases WHERE name LIKE '%X-linked%'));\n",
    "INSERT INTO DiseasesAnalysis VALUES ('Y-linked',(SELECT COUNT(*) FROM Diseases WHERE name LIKE '%Y-linked%'));                                                 \n",
    "INSERT INTO DiseasesAnalysis VALUES ('dysplasia',(SELECT COUNT(*) FROM Diseases WHERE name LIKE '%dysplasia%'));\n",
    "INSERT INTO DiseasesAnalysis VALUES ('infantile',(SELECT COUNT(*) FROM Diseases WHERE name LIKE '%infantile%'));\n",
    "INSERT INTO DiseasesAnalysis VALUES ('encephalopathy',(SELECT COUNT(*) FROM Diseases WHERE name LIKE '%encephalopathy%'));\n",
    "INSERT INTO DiseasesAnalysis VALUES ('sarcoma',(SELECT COUNT(*) FROM Diseases WHERE name LIKE '%sarcoma%'));\n",
    "INSERT INTO DiseasesAnalysis VALUES ('mental',(SELECT COUNT(*) FROM Diseases WHERE name LIKE '%mental%'));\n",
    "INSERT INTO DiseasesAnalysis VALUES ('deafness',(SELECT COUNT(*) FROM Diseases WHERE name LIKE '%deafness%'));\n",
    "                                               \n",
    "                                               \n",
    "select * from DiseasesAnalysis order by Category;"
   ]
  },
  {
   "cell_type": "markdown",
   "metadata": {},
   "source": [
    "# Algumas pesquisas interessantes em relação a essa tabela"
   ]
  },
  {
   "cell_type": "markdown",
   "metadata": {},
   "source": [
    "## Proposta 1: Doenças mais comuns\n",
    "Esta query em SQL, retorna as informações das 5 categorias de doenças mais comuns relacionadas a algum tipo de proteina"
   ]
  },
  {
   "cell_type": "code",
   "execution_count": 167,
   "metadata": {},
   "outputs": [
    {
     "data": {
      "application/vnd.jupyter.widget-view+json": {
       "model_id": "ffec841d-7b98-45a7-88e8-65fab67518dc",
       "version_major": 2,
       "version_minor": 0
      },
      "method": "display_data"
     },
     "metadata": {},
     "output_type": "display_data"
    }
   ],
   "source": [
    "SELECT * FROM DiseasesAnalysis\n",
    "ORDER BY amount DESC\n",
    "LIMIT 11;"
   ]
  },
  {
   "cell_type": "markdown",
   "metadata": {},
   "source": [
    "## Proposta 2:Suporte\n",
    "Esta query em SQL, retorna o valor do suporte de cada categoria de doença, ou seja, a probabilidade de dada uma doença qualquer, ela ser dessa categoria específica"
   ]
  },
  {
   "cell_type": "code",
   "execution_count": 168,
   "metadata": {},
   "outputs": [
    {
     "data": {
      "application/vnd.jupyter.widget-view+json": {
       "model_id": "eb48e239-fdee-4890-92f3-e3aebb75fe85",
       "version_major": 2,
       "version_minor": 0
      },
      "method": "display_data"
     },
     "metadata": {},
     "output_type": "display_data"
    }
   ],
   "source": [
    "SELECT Category, SUM(CAST(Amount AS DOUBLE) / (SELECT COUNT(*) numberofdiseases\n",
    "                                               FROM Diseases)) suporte\n",
    "FROM DiseasesAnalysis\n",
    "GROUP BY category\n",
    "ORDER BY suporte DESC;"
   ]
  },
  {
   "cell_type": "markdown",
   "metadata": {},
   "source": [
    "## Proposta 3: Duas categorias na mesma doença\n",
    "\n",
    "Uma informação interessante a se pensar com relação aos dados de doençar é a quantidade de doenças que pertencem a duas categorias simultaneamente. Essa query mostra essas ocorrências pra algumas das categorias mais comuns escolhidas para analise"
   ]
  },
  {
   "cell_type": "code",
   "execution_count": 169,
   "metadata": {},
   "outputs": [
    {
     "data": {
      "application/vnd.jupyter.widget-view+json": {
       "model_id": "9084a6f1-6bba-429e-9b5e-25dd190f0233",
       "version_major": 2,
       "version_minor": 0
      },
      "method": "display_data"
     },
     "metadata": {},
     "output_type": "display_data"
    },
    {
     "data": {
      "application/vnd.jupyter.widget-view+json": {
       "model_id": "b85934f3-3d21-4bc7-be6a-d746ed5cbdbd",
       "version_major": 2,
       "version_minor": 0
      },
      "method": "display_data"
     },
     "metadata": {},
     "output_type": "display_data"
    },
    {
     "data": {
      "application/vnd.jupyter.widget-view+json": {
       "model_id": "cfbd17b2-dba6-4141-8e99-3e17bbadc1c9",
       "version_major": 2,
       "version_minor": 0
      },
      "method": "display_data"
     },
     "metadata": {},
     "output_type": "display_data"
    },
    {
     "data": {
      "application/vnd.jupyter.widget-view+json": {
       "model_id": "0aca6406-47c5-4368-9991-217616714014",
       "version_major": 2,
       "version_minor": 0
      },
      "method": "display_data"
     },
     "metadata": {},
     "output_type": "display_data"
    },
    {
     "data": {
      "application/vnd.jupyter.widget-view+json": {
       "model_id": "b618ac97-5d24-4004-9fe4-dcbfbf70d718",
       "version_major": 2,
       "version_minor": 0
      },
      "method": "display_data"
     },
     "metadata": {},
     "output_type": "display_data"
    },
    {
     "data": {
      "application/vnd.jupyter.widget-view+json": {
       "model_id": "7254f508-f653-4c18-bc63-05a704edd8a0",
       "version_major": 2,
       "version_minor": 0
      },
      "method": "display_data"
     },
     "metadata": {},
     "output_type": "display_data"
    },
    {
     "data": {
      "application/vnd.jupyter.widget-view+json": {
       "model_id": "e3ade81d-b429-4e43-879c-dc08dd5826b4",
       "version_major": 2,
       "version_minor": 0
      },
      "method": "display_data"
     },
     "metadata": {},
     "output_type": "display_data"
    },
    {
     "data": {
      "application/vnd.jupyter.widget-view+json": {
       "model_id": "80ccca24-b883-49ad-8e9b-8e08f579f7ab",
       "version_major": 2,
       "version_minor": 0
      },
      "method": "display_data"
     },
     "metadata": {},
     "output_type": "display_data"
    },
    {
     "data": {
      "application/vnd.jupyter.widget-view+json": {
       "model_id": "fc87c179-8b63-4bf8-b9e1-e09f0e9a032f",
       "version_major": 2,
       "version_minor": 0
      },
      "method": "display_data"
     },
     "metadata": {},
     "output_type": "display_data"
    }
   ],
   "source": [
    "SELECT 'syndrome', 'deficiency', COUNT(*) occurrences\n",
    "FROM Diseases D\n",
    "WHERE D.name LIKE '%syndrome%' AND\n",
    "      D.name LIKE '%deficiency%';\n",
    "      \n",
    "SELECT 'syndrome', 'mental', COUNT(*) occurrences\n",
    "FROM Diseases D\n",
    "WHERE D.name LIKE '%syndrome%' AND\n",
    "      D.name LIKE '%mental%';\n",
    "      \n",
    "SELECT 'syndrome', 'congenital', COUNT(*) occurrences\n",
    "FROM Diseases D\n",
    "WHERE D.name LIKE '%syndrome%' AND\n",
    "      D.name LIKE '%congenital%';\n",
    "      \n",
    "SELECT 'mental', 'deficiency', COUNT(*) occurrences\n",
    "FROM Diseases D\n",
    "WHERE D.name LIKE '%mental%' AND\n",
    "      D.name LIKE '%deficiency%';\n",
    "      \n",
    "SELECT 'autosomal dominant', 'deafness', COUNT(*) occurrences\n",
    "FROM Diseases D\n",
    "WHERE D.name LIKE '%autosomal dominant%' AND\n",
    "      D.name LIKE '%deafness%';\n",
    "      \n",
    "SELECT 'autosomal dominant', 'syndrome', COUNT(*) occurrences\n",
    "FROM Diseases D\n",
    "WHERE D.name LIKE '%autosomal dominant%' AND\n",
    "      D.name LIKE '%syndrome%';\n",
    "      \n",
    "SELECT 'autosomal dominant', 'mental', COUNT(*) occurrences\n",
    "FROM Diseases D\n",
    "WHERE D.name LIKE '%autosomal dominant%' AND\n",
    "      D.name LIKE '%mental%';\n",
    "      \n",
    "SELECT 'X-linked', 'dysplasia', COUNT(*) occurrences\n",
    "FROM Diseases D\n",
    "WHERE D.name LIKE '%X-linked%' AND\n",
    "      D.name LIKE '%dysplasia%';\n",
    "      \n",
    "SELECT 'hereditary', 'syndrome', COUNT(*) occurrences\n",
    "FROM Diseases D\n",
    "WHERE D.name LIKE '%hereditary%' AND\n",
    "      D.name LIKE '%syndrome%';"
   ]
  },
  {
   "cell_type": "markdown",
   "metadata": {},
   "source": [
    "## Proposta 4: Confiança\n",
    "\n",
    "Outra informação possivelmente mais importante que as ocorrências de duas categorias ao mesmo tempo, é a confiança dessas associações: a probabilidade de que ambas ocorram ao mesmo tempo"
   ]
  },
  {
   "cell_type": "code",
   "execution_count": 170,
   "metadata": {},
   "outputs": [
    {
     "data": {
      "application/vnd.jupyter.widget-view+json": {
       "model_id": "c84e177b-3ac4-4167-8331-1fc2b477b82d",
       "version_major": 2,
       "version_minor": 0
      },
      "method": "display_data"
     },
     "metadata": {},
     "output_type": "display_data"
    },
    {
     "data": {
      "application/vnd.jupyter.widget-view+json": {
       "model_id": "59c99f89-040a-4f5f-8d5c-ad13196f82b2",
       "version_major": 2,
       "version_minor": 0
      },
      "method": "display_data"
     },
     "metadata": {},
     "output_type": "display_data"
    },
    {
     "data": {
      "application/vnd.jupyter.widget-view+json": {
       "model_id": "c4ab3892-5394-4053-bc62-a333da259ed7",
       "version_major": 2,
       "version_minor": 0
      },
      "method": "display_data"
     },
     "metadata": {},
     "output_type": "display_data"
    },
    {
     "data": {
      "application/vnd.jupyter.widget-view+json": {
       "model_id": "866c1087-afb3-4e96-abd1-b9ab6ebb73b7",
       "version_major": 2,
       "version_minor": 0
      },
      "method": "display_data"
     },
     "metadata": {},
     "output_type": "display_data"
    },
    {
     "data": {
      "application/vnd.jupyter.widget-view+json": {
       "model_id": "263e0521-3659-4242-aa9b-6f7526b5b925",
       "version_major": 2,
       "version_minor": 0
      },
      "method": "display_data"
     },
     "metadata": {},
     "output_type": "display_data"
    },
    {
     "data": {
      "application/vnd.jupyter.widget-view+json": {
       "model_id": "8ca3c21b-ea71-4ac8-a89d-d6c30811f800",
       "version_major": 2,
       "version_minor": 0
      },
      "method": "display_data"
     },
     "metadata": {},
     "output_type": "display_data"
    },
    {
     "data": {
      "application/vnd.jupyter.widget-view+json": {
       "model_id": "ccec32ad-a0ee-4629-8996-b82feeb93196",
       "version_major": 2,
       "version_minor": 0
      },
      "method": "display_data"
     },
     "metadata": {},
     "output_type": "display_data"
    },
    {
     "data": {
      "application/vnd.jupyter.widget-view+json": {
       "model_id": "757ad3dd-e43e-47ff-9c0e-8638f3f0748f",
       "version_major": 2,
       "version_minor": 0
      },
      "method": "display_data"
     },
     "metadata": {},
     "output_type": "display_data"
    }
   ],
   "source": [
    "SELECT 'syndrome', 'deficiency', CAST((SELECT COUNT(*) occurrences\n",
    "                                       FROM Diseases D\n",
    "                                       WHERE D.name LIKE '%syndrome%' AND\n",
    "                                             D.name LIKE '%deficiency%') AS DOUBLE) / (SELECT amount\n",
    "                                                                                       FROM DiseasesAnalysis\n",
    "                                                                                       WHERE category = 'syndrome') confiança;\n",
    "                                                             \n",
    "SELECT 'syndrome', 'mental', CAST((SELECT COUNT(*) occurrences\n",
    "                                   FROM Diseases D\n",
    "                                   WHERE D.name LIKE '%syndrome%' AND\n",
    "                                         D.name LIKE '%mental%') AS DOUBLE) / (SELECT amount\n",
    "                                                                               FROM DiseasesAnalysis\n",
    "                                                                               WHERE category = 'syndrome') confiança;\n",
    "                                                             \n",
    "SELECT 'syndrome', 'congenital', CAST((SELECT COUNT(*) occurrences\n",
    "                                       FROM Diseases D\n",
    "                                       WHERE D.name LIKE '%syndrome%' AND\n",
    "                                             D.name LIKE '%congenital%') AS DOUBLE) / (SELECT amount\n",
    "                                                                                       FROM DiseasesAnalysis\n",
    "                                                                                       WHERE category = 'syndrome') confiança;\n",
    "                                                             \n",
    "SELECT 'mental', 'deficiency', CAST((SELECT COUNT(*) occurrences\n",
    "                                     FROM Diseases D\n",
    "                                     WHERE D.name LIKE '%mental%' AND\n",
    "                                           D.name LIKE '%deficiency%') AS DOUBLE) / (SELECT amount\n",
    "                                                                                     FROM DiseasesAnalysis\n",
    "                                                                                     WHERE category = 'mental') confiança;\n",
    "                                                             \n",
    "SELECT 'autosomal dominant', 'deafness', CAST((SELECT COUNT(*) occurrences\n",
    "                                               FROM Diseases D\n",
    "                                               WHERE D.name LIKE '%autosomal dominant%' AND\n",
    "                                                     D.name LIKE '%deafness%') AS DOUBLE) / (SELECT amount\n",
    "                                                                                             FROM DiseasesAnalysis\n",
    "                                                                                             WHERE category = 'autosomal dominant') confiança;\n",
    "                                                             \n",
    "SELECT 'autosomal dominant', 'syndrome', CAST((SELECT COUNT(*) occurrences\n",
    "                                               FROM Diseases D\n",
    "                                               WHERE D.name LIKE '%autosomal dominant%' AND\n",
    "                                                     D.name LIKE '%syndrome%') AS DOUBLE) / (SELECT amount\n",
    "                                                                                             FROM DiseasesAnalysis\n",
    "                                                                                             WHERE category = 'autosomal dominant') confiança;\n",
    "                                                             \n",
    "SELECT 'autosomal dominant', 'mental', CAST((SELECT COUNT(*) occurrences\n",
    "                                             FROM Diseases D\n",
    "                                             WHERE D.name LIKE '%autosomal dominant%' AND\n",
    "                                                   D.name LIKE '%mental%') AS DOUBLE) / (SELECT amount\n",
    "                                                                                         FROM DiseasesAnalysis\n",
    "                                                                                         WHERE category = 'autosomal dominant') confiança;\n",
    "                                                             \n",
    "SELECT 'X-linked', 'dysplasia', CAST((SELECT COUNT(*) occurrences\n",
    "                                      FROM Diseases D\n",
    "                                      WHERE D.name LIKE '%X-linked%' AND\n",
    "                                            D.name LIKE '%dysplasia%') AS DOUBLE) / (SELECT amount\n",
    "                                                                                     FROM DiseasesAnalysis\n",
    "                                                                                     WHERE category = 'X-linked') confiança;"
   ]
  },
  {
   "cell_type": "markdown",
   "metadata": {},
   "source": [
    "## Proposta 5: Probabilidade\n",
    "\n",
    "Outra informação que podemos retirar comparar as probabilidade de uma doença ser de uma categoria mais especifica em relação a uma menos especifica."
   ]
  },
  {
   "cell_type": "code",
   "execution_count": 171,
   "metadata": {},
   "outputs": [
    {
     "data": {
      "application/vnd.jupyter.widget-view+json": {
       "model_id": "547356c8-db6a-4612-8309-f15827459a88",
       "version_major": 2,
       "version_minor": 0
      },
      "method": "display_data"
     },
     "metadata": {},
     "output_type": "display_data"
    },
    {
     "data": {
      "application/vnd.jupyter.widget-view+json": {
       "model_id": "f97aa58b-7a81-4cc0-8643-6131dcb7baaf",
       "version_major": 2,
       "version_minor": 0
      },
      "method": "display_data"
     },
     "metadata": {},
     "output_type": "display_data"
    },
    {
     "data": {
      "application/vnd.jupyter.widget-view+json": {
       "model_id": "7fa8b4ce-4ad4-4e0f-b475-25fc07dbf808",
       "version_major": 2,
       "version_minor": 0
      },
      "method": "display_data"
     },
     "metadata": {},
     "output_type": "display_data"
    },
    {
     "data": {
      "application/vnd.jupyter.widget-view+json": {
       "model_id": "54583db9-91b6-473a-ad24-cb32b28ba259",
       "version_major": 2,
       "version_minor": 0
      },
      "method": "display_data"
     },
     "metadata": {},
     "output_type": "display_data"
    }
   ],
   "source": [
    "SELECT CAST(SELECT SUM(amount) from DiseasesAnalysis \n",
    "            WHERE category LIKE '%autosomal dominant%' AS DOUBLE)/\n",
    "            CAST((SELECT count(*) NAME \n",
    "                  FROM Diseases \n",
    "                  WHERE name LIKE '%autosomal%') AS DOUBLE) autosomalDominant_autosomal,\n",
    "        CAST(SELECT SUM(amount) from DiseasesAnalysis \n",
    "            WHERE category LIKE '%autosomal dominant%' AS DOUBLE)/\n",
    "            CAST((SELECT count(*) NAME \n",
    "                  FROM Diseases) AS DOUBLE) autosomalDominant_total;\n",
    "\n",
    "SELECT (CAST(SELECT SUM(amount) from DiseasesAnalysis \n",
    "            WHERE category LIKE '%autosomal recessive%' AS DOUBLE)/\n",
    "            CAST((SELECT count(*) NAME \n",
    "                  FROM Diseases \n",
    "                  WHERE name LIKE '%autosomal%') AS DOUBLE))autosomalRecessive_autosomal,\n",
    "       (CAST(SELECT SUM(amount) from DiseasesAnalysis \n",
    "            WHERE category LIKE '%autosomal recessive%' AS DOUBLE)/\n",
    "            CAST((SELECT count(*) NAME \n",
    "                  FROM Diseases) AS DOUBLE)) autosomalRecessive_total;\n",
    "\n",
    "SELECT (CAST(SELECT SUM(amount) from DiseasesAnalysis \n",
    "            WHERE category LIKE '%x-linked%' AS DOUBLE)/\n",
    "            CAST((SELECT count(*) NAME \n",
    "                  FROM Diseases \n",
    "                  WHERE name LIKE '%linked%') AS DOUBLE)) X_LINKED,\n",
    "       (CAST(SELECT SUM(amount) from DiseasesAnalysis \n",
    "            WHERE category LIKE '%x-linked%' AS DOUBLE)/\n",
    "            CAST((SELECT count(*) NAME \n",
    "                  FROM Diseases) AS DOUBLE)) X_TOTAL;\n",
    "                  \n",
    "SELECT (CAST(SELECT SUM(amount) from DiseasesAnalysis \n",
    "            WHERE category LIKE '%y-linked%' AS DOUBLE)/\n",
    "            CAST((SELECT count(*) NAME \n",
    "                  FROM Diseases \n",
    "                  WHERE name LIKE '%linked%') AS DOUBLE)) Y_LINKED,\n",
    "       (CAST(SELECT SUM(amount) from DiseasesAnalysis \n",
    "            WHERE category LIKE '%y-linked%' AS DOUBLE)/\n",
    "            CAST((SELECT count(*) NAME \n",
    "                  FROM Diseases) AS DOUBLE)) Y_TOTAL;\n"
   ]
  },
  {
   "cell_type": "code",
   "execution_count": null,
   "metadata": {},
   "outputs": [],
   "source": []
  }
 ],
 "metadata": {
  "kernelspec": {
   "display_name": "SQL",
   "language": "SQL",
   "name": "sql"
  },
  "language_info": {
   "codemirror_mode": "sql",
   "file_extension": ".sql",
   "mimetype": "",
   "name": "SQL",
   "nbconverter_exporter": "",
   "version": ""
  }
 },
 "nbformat": 4,
 "nbformat_minor": 2
}
