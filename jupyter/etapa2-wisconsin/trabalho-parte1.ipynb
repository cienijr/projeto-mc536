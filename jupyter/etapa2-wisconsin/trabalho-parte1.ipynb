{
 "cells": [
  {
   "cell_type": "code",
   "execution_count": 1,
   "metadata": {},
   "outputs": [],
   "source": [
    "%defaultDatasource jdbc:h2:mem:db"
   ]
  },
  {
   "cell_type": "markdown",
   "metadata": {},
   "source": [
    "Criação das tabelas seguindo o UML"
   ]
  },
  {
   "cell_type": "code",
   "execution_count": 2,
   "metadata": {},
   "outputs": [],
   "source": [
    "CREATE TABLE Paciente (\n",
    "  Id VARCHAR(16) NOT NULL,\n",
    "  Diagnostico VARCHAR(1) NOT NULL,\n",
    "  Raio DECIMAL(20,10) NOT NULL,\n",
    "  Textura DECIMAL(20,10) NOT NULL,\n",
    "  Perimetro DECIMAL(20,10) NOT NULL,\n",
    "  Area DECIMAL(20,10) NOT NULL,\n",
    "  Suavidade DECIMAL(20,10) NOT NULL,\n",
    "  Compacidade DECIMAL(20,10) NOT NULL,\n",
    "  Concavidade DECIMAL(20,10) NOT NULL,\n",
    "  PontosConcavos DECIMAL(20,10) NOT NULL,\n",
    "  Simetria DECIMAL(20,10) NOT NULL,\n",
    "  DimensaoFractal DECIMAL(20,10) NOT NULL,  \n",
    "  PRIMARY KEY(Id)\n",
    ") AS SELECT\n",
    "    id,\n",
    "    diagnosis,\n",
    "    radius_mean,\n",
    "    texture_mean,\n",
    "    perimeter_mean,\n",
    "    area_mean,\n",
    "    smoothness_mean,\n",
    "    compactness_mean,\n",
    "    concavity_mean,\n",
    "    concave_points_mean,\n",
    "    symmetry_mean,\n",
    "    fractal_dimension_mean\n",
    "FROM CSVREAD('data.csv');\n",
    "\n",
    "CREATE TABLE Erro (\n",
    "  IdPaciente VARCHAR(16) NOT NULL,\n",
    "  Raio_erro DECIMAL(20,10) NOT NULL,\n",
    "  Textura_erro DECIMAL(20,10) NOT NULL,\n",
    "  Perimetro_erro DECIMAL(20,10) NOT NULL,\n",
    "  Area_erro DECIMAL(20,10) NOT NULL,\n",
    "  Suavidade_erro DECIMAL(20,10) NOT NULL,\n",
    "  Compacidade_erro DECIMAL(20,10) NOT NULL,\n",
    "  Concavidade_erro DECIMAL(20,10) NOT NULL,\n",
    "  PontosConcavos_erro DECIMAL(20,10) NOT NULL,\n",
    "  Simetria_erro DECIMAL(20,10) NOT NULL,\n",
    "  DimensaoFractal_erro DECIMAL(20,10) NOT NULL,\n",
    "  PRIMARY KEY(IdPaciente),\n",
    "  FOREIGN KEY(IdPaciente)\n",
    "    REFERENCES Paciente(Id)\n",
    "      ON DELETE NO ACTION\n",
    "      ON UPDATE NO ACTION,\n",
    ") AS SELECT\n",
    "    id,\n",
    "    radius_se,\n",
    "    texture_se,\n",
    "    perimeter_se,\n",
    "    area_se,\n",
    "    smoothness_se,\n",
    "    compactness_se,\n",
    "    concavity_se,\n",
    "    concave_points_se,\n",
    "    symmetry_se,\n",
    "    fractal_dimension_se\n",
    "FROM CSVREAD('data.csv');"
   ]
  },
  {
   "cell_type": "code",
   "execution_count": 3,
   "metadata": {},
   "outputs": [
    {
     "data": {
      "application/vnd.jupyter.widget-view+json": {
       "model_id": "734b6eee-32de-4a04-be90-aa7491ed479a",
       "version_major": 2,
       "version_minor": 0
      },
      "method": "display_data"
     },
     "metadata": {},
     "output_type": "display_data"
    },
    {
     "data": {
      "application/vnd.jupyter.widget-view+json": {
       "model_id": "1aeffc44-f404-4cb4-b86f-2667abc5c43a",
       "version_major": 2,
       "version_minor": 0
      },
      "method": "display_data"
     },
     "metadata": {},
     "output_type": "display_data"
    }
   ],
   "source": [
    "SELECT * FROM Paciente;\n",
    "SELECT * FROM Erro;"
   ]
  },
  {
   "cell_type": "markdown",
   "metadata": {},
   "source": [
    "Consulta simples para descobrirmos as medias de valores das amostras diagnosticadas como benigmas ou malignas, para termos ideia de alguns limiares usados para analise dos dados"
   ]
  },
  {
   "cell_type": "code",
   "execution_count": 4,
   "metadata": {},
   "outputs": [
    {
     "data": {
      "application/vnd.jupyter.widget-view+json": {
       "model_id": "3a264326-ae48-44be-a0a1-4e3a29f2d823",
       "version_major": 2,
       "version_minor": 0
      },
      "method": "display_data"
     },
     "metadata": {},
     "output_type": "display_data"
    }
   ],
   "source": [
    "SELECT AVG(Raio) AS raio_media, AVG(Textura) AS textura_media, AVG(Perimetro) AS perimetro_media, AVG(Area) AS area_media,\n",
    "       AVG(Suavidade) AS suavidade_media, AVG(Compacidade) AS compacidade_media, AVG(Concavidade) AS concavidade_media,\n",
    "       AVG(PontosConcavos) AS pontosconcavos_media, AVG(Simetria) AS simetria_media, \n",
    "       AVG(DimensaoFractal) AS dimensaofractal_media\n",
    "FROM Paciente\n",
    "WHERE Diagnostico = 'M'"
   ]
  },
  {
   "cell_type": "code",
   "execution_count": 5,
   "metadata": {},
   "outputs": [
    {
     "data": {
      "application/vnd.jupyter.widget-view+json": {
       "model_id": "7228ca1a-d0ef-417d-90a6-9c146f48adeb",
       "version_major": 2,
       "version_minor": 0
      },
      "method": "display_data"
     },
     "metadata": {},
     "output_type": "display_data"
    }
   ],
   "source": [
    "SELECT AVG(Raio) AS raio_media, AVG(Textura) AS textura_media, AVG(Perimetro) AS perimetro_media, AVG(Area) AS area_media,\n",
    "       AVG(Suavidade) AS suavidade_media, AVG(Compacidade) AS compacidade_media, AVG(Concavidade) AS concavidade_media,\n",
    "       AVG(PontosConcavos) AS pontosconcavos_media, AVG(Simetria) AS simetria_media, \n",
    "       AVG(DimensaoFractal) AS dimensaofractal_media\n",
    "FROM Paciente\n",
    "WHERE Diagnostico = 'B'"
   ]
  },
  {
   "cell_type": "markdown",
   "metadata": {},
   "source": [
    "Outra consulta simples em que recuperamos os valores maximos e minimos para compararmos com as medias obtidas acima, onde talvez possamos obter alguns dados úteis"
   ]
  },
  {
   "cell_type": "code",
   "execution_count": 6,
   "metadata": {},
   "outputs": [
    {
     "data": {
      "application/vnd.jupyter.widget-view+json": {
       "model_id": "653629ec-250e-4d47-86cf-2f11794d23f9",
       "version_major": 2,
       "version_minor": 0
      },
      "method": "display_data"
     },
     "metadata": {},
     "output_type": "display_data"
    }
   ],
   "source": [
    "SELECT MAX(Raio) AS raio_max, MAX(Textura) AS textura_max, MAX(Perimetro) AS perimetro_max, MAX(Area) AS area_max,\n",
    "       MAX(Suavidade) AS suavidade_max, MAX(Compacidade) AS compacidade_max, MAX(Concavidade) AS concavidade_max,\n",
    "       MAX(PontosConcavos) AS pontosconcavos_max, MAX(Simetria) AS simetria_max, \n",
    "       MAX(DimensaoFractal) AS dimensaofractal_max\n",
    "FROM Paciente\n",
    "WHERE Diagnostico = 'M'"
   ]
  },
  {
   "cell_type": "code",
   "execution_count": 7,
   "metadata": {},
   "outputs": [
    {
     "data": {
      "application/vnd.jupyter.widget-view+json": {
       "model_id": "15fa3c20-6d62-4c1f-aae9-aab594dc7fb6",
       "version_major": 2,
       "version_minor": 0
      },
      "method": "display_data"
     },
     "metadata": {},
     "output_type": "display_data"
    }
   ],
   "source": [
    "SELECT MAX(Raio) AS raio_max, MAX(Textura) AS textura_max, MAX(Perimetro) AS perimetro_max, MAX(Area) AS area_max,\n",
    "       MAX(Suavidade) AS suavidade_max, MAX(Compacidade) AS compacidade_max, MAX(Concavidade) AS concavidade_max,\n",
    "       MAX(PontosConcavos) AS pontosconcavos_max, MAX(Simetria) AS simetria_max, \n",
    "       MAX(DimensaoFractal) AS dimensaofractal_max\n",
    "FROM Paciente\n",
    "WHERE Diagnostico = 'B'"
   ]
  },
  {
   "cell_type": "markdown",
   "metadata": {},
   "source": [
    "Algumas consultas para sabermos um pouco mais sobre o perfil das amostras"
   ]
  },
  {
   "cell_type": "code",
   "execution_count": 8,
   "metadata": {},
   "outputs": [
    {
     "data": {
      "text/plain": [
       "569"
      ]
     },
     "execution_count": 8,
     "metadata": {},
     "output_type": "execute_result"
    }
   ],
   "source": [
    "SELECT COUNT(*)\n",
    "FROM Paciente"
   ]
  },
  {
   "cell_type": "code",
   "execution_count": 9,
   "metadata": {},
   "outputs": [
    {
     "data": {
      "text/plain": [
       "212"
      ]
     },
     "execution_count": 9,
     "metadata": {},
     "output_type": "execute_result"
    }
   ],
   "source": [
    "SELECT COUNT(*)\n",
    "FROM Paciente\n",
    "WHERE Diagnostico = 'M'"
   ]
  },
  {
   "cell_type": "code",
   "execution_count": 10,
   "metadata": {},
   "outputs": [
    {
     "data": {
      "text/plain": [
       "357"
      ]
     },
     "execution_count": 10,
     "metadata": {},
     "output_type": "execute_result"
    }
   ],
   "source": [
    "SELECT COUNT(*)\n",
    "FROM Paciente\n",
    "WHERE Diagnostico = 'B'"
   ]
  },
  {
   "cell_type": "markdown",
   "metadata": {},
   "source": [
    "Consultas para tentarmos descobrir alguns padrões, tendo as medias como limiares"
   ]
  },
  {
   "cell_type": "markdown",
   "metadata": {},
   "source": [
    "Consulta que checa quantas amostras benigmas possuem area maior que a média de amostras malignas, como podemos ver,\n",
    "apenas uma amostra apresenta area maior, podemos concluir então que a area é um fator importante para indicar se é benigmo\n",
    "ou maligno."
   ]
  },
  {
   "cell_type": "code",
   "execution_count": 11,
   "metadata": {},
   "outputs": [
    {
     "data": {
      "text/plain": [
       "1"
      ]
     },
     "execution_count": 11,
     "metadata": {},
     "output_type": "execute_result"
    }
   ],
   "source": [
    "SELECT COUNT(*)\n",
    "FROM Paciente Pa\n",
    "WHERE Pa.Diagnostico = 'B' AND Pa.Area > (SELECT AVG(P.Area) FROM Paciente P WHERE P.Diagnostico = 'M')"
   ]
  },
  {
   "cell_type": "markdown",
   "metadata": {},
   "source": [
    "Mesma consulta para identificar o mesmo fato, só que agora para o perimetro."
   ]
  },
  {
   "cell_type": "code",
   "execution_count": 12,
   "metadata": {},
   "outputs": [
    {
     "data": {
      "text/plain": [
       "0"
      ]
     },
     "execution_count": 12,
     "metadata": {},
     "output_type": "execute_result"
    }
   ],
   "source": [
    "SELECT COUNT(*)\n",
    "FROM Paciente Pa\n",
    "WHERE Pa.Diagnostico = 'B' AND Pa.Perimetro > (SELECT AVG(P.Perimetro) FROM Paciente P WHERE P.Diagnostico = 'M')"
   ]
  },
  {
   "cell_type": "markdown",
   "metadata": {},
   "source": [
    "Novamente para a concavidade."
   ]
  },
  {
   "cell_type": "code",
   "execution_count": 13,
   "metadata": {},
   "outputs": [
    {
     "data": {
      "text/plain": [
       "5"
      ]
     },
     "execution_count": 13,
     "metadata": {},
     "output_type": "execute_result"
    }
   ],
   "source": [
    "SELECT COUNT(*)\n",
    "FROM Paciente Pa\n",
    "WHERE Pa.Diagnostico = 'B' AND Pa.Concavidade > (SELECT AVG(P.Concavidade) FROM Paciente P WHERE P.Diagnostico = 'M')"
   ]
  },
  {
   "cell_type": "markdown",
   "metadata": {},
   "source": [
    "Novamente para a compacidade"
   ]
  },
  {
   "cell_type": "code",
   "execution_count": 14,
   "metadata": {},
   "outputs": [
    {
     "data": {
      "text/plain": [
       "16"
      ]
     },
     "execution_count": 14,
     "metadata": {},
     "output_type": "execute_result"
    }
   ],
   "source": [
    "SELECT COUNT(*)\n",
    "FROM Paciente Pa\n",
    "WHERE Pa.Diagnostico = 'B' AND Pa.Compacidade > (SELECT AVG(P.Compacidade) FROM Paciente P WHERE P.Diagnostico = 'M')"
   ]
  },
  {
   "cell_type": "markdown",
   "metadata": {},
   "source": [
    "E novamente para os pontos concavos."
   ]
  },
  {
   "cell_type": "code",
   "execution_count": 15,
   "metadata": {},
   "outputs": [
    {
     "data": {
      "text/plain": [
       "0"
      ]
     },
     "execution_count": 15,
     "metadata": {},
     "output_type": "execute_result"
    }
   ],
   "source": [
    "SELECT COUNT(*)\n",
    "FROM Paciente Pa\n",
    "WHERE Pa.Diagnostico = 'B' AND Pa.PontosConcavos > (SELECT AVG(P.PontosConcavos) FROM Paciente P WHERE P.Diagnostico = 'M')"
   ]
  },
  {
   "cell_type": "markdown",
   "metadata": {},
   "source": [
    "Consulta para verificar considerando os 5 fatores acima, de forma a checar quantas amostras benigmas fogem dos padrões identificados acima. E como podemos checar, nenhuma amostra benigma possui, numeros maiores que estes limiares definidos, sendo assim um possível método potente para identificaç"
   ]
  },
  {
   "cell_type": "code",
   "execution_count": 16,
   "metadata": {},
   "outputs": [
    {
     "data": {
      "text/plain": [
       "0"
      ]
     },
     "execution_count": 16,
     "metadata": {},
     "output_type": "execute_result"
    }
   ],
   "source": [
    "SELECT COUNT(*)\n",
    "FROM Paciente\n",
    "WHERE Diagnostico = 'B' AND Area > 978.37 AND Perimetro > 115.36 AND Concavidade > 0.16 AND Compacidade >  0.145 AND \n",
    "      PontosConcavos > 0.088"
   ]
  },
  {
   "cell_type": "markdown",
   "metadata": {},
   "source": [
    "A mesma consulta só que levando em conta os erros."
   ]
  },
  {
   "cell_type": "code",
   "execution_count": 18,
   "metadata": {},
   "outputs": [
    {
     "data": {
      "text/plain": [
       "0"
      ]
     },
     "execution_count": 18,
     "metadata": {},
     "output_type": "execute_result"
    }
   ],
   "source": [
    "SELECT COUNT(*)\n",
    "FROM Paciente P, Erro E\n",
    "WHERE P.Id = E.IdPaciente AND\n",
    "      P.Diagnostico = 'B' AND \n",
    "      P.Area + E.Area_erro > 978.37 AND \n",
    "      P.Perimetro + E.Perimetro_erro > 115.36 AND\n",
    "      P.Concavidade + E.Concavidade_erro > 0.16 AND\n",
    "      P.Compacidade + E.Compacidade_erro >  0.145 AND \n",
    "      P.PontosConcavos + E.PontosConcavos_erro > 0.088"
   ]
  },
  {
   "cell_type": "code",
   "execution_count": null,
   "metadata": {},
   "outputs": [],
   "source": [
    "Analise emcima da correlação entre todos atributos (iremos fazer da Area com todos outros pois ja temos uma boa noção do panorama geral apenas com essa analise e a realizada acima)\n",
    "Lembrando que valores pertos de 1 ou -1 indicam forte correlação.\n",
    "Link de referencia explicando o que é correlação entre variaveis.\n",
    "http://www.futebolmetria.com/correla--o-estat-stica.html"
   ]
  },
  {
   "cell_type": "code",
   "execution_count": null,
   "metadata": {},
   "outputs": [],
   "source": [
    "Ajeitamos de maneira que as correlações estao em ordem decrescente."
   ]
  },
  {
   "cell_type": "code",
   "execution_count": null,
   "metadata": {},
   "outputs": [],
   "source": [
    "Raio X Area"
   ]
  },
  {
   "cell_type": "code",
   "execution_count": 42,
   "metadata": {},
   "outputs": [
    {
     "data": {
      "text/plain": [
       "0.9873571700566123"
      ]
     },
     "execution_count": 42,
     "metadata": {},
     "output_type": "execute_result"
    }
   ],
   "source": [
    "SELECT ((N*SumTot)-(SumArea*SumPer))/(SQRT(N*SumArea2-SumArea*sumArea)*SQRT(N*SumPer2-SumPer*sumPer))\n",
    "FROM   (SELECT SUM(Area) AS SumArea,\n",
    "               SUM(Raio) AS sumPer,\n",
    "               SUM(Area*Area) AS SumArea2,\n",
    "               SUM(Raio*Raio) AS sumPer2,\n",
    "               SUM(Area*Raio) AS sumTot,\n",
    "               COUNT(*) AS N\n",
    "         FROM   Paciente\n",
    "        ) dados;"
   ]
  },
  {
   "cell_type": "code",
   "execution_count": null,
   "metadata": {},
   "outputs": [],
   "source": [
    "Perimetro X Area"
   ]
  },
  {
   "cell_type": "code",
   "execution_count": 32,
   "metadata": {},
   "outputs": [
    {
     "data": {
      "text/plain": [
       "0.9865068039913901"
      ]
     },
     "execution_count": 32,
     "metadata": {},
     "output_type": "execute_result"
    }
   ],
   "source": [
    "SELECT ((N*SumTot)-(SumArea*SumPer))/(SQRT(N*SumArea2-SumArea*sumArea)*SQRT(N*SumPer2-SumPer*sumPer))\n",
    "FROM   (SELECT SUM(Area) AS SumArea,\n",
    "               SUM(Perimetro) AS sumPer,\n",
    "               SUM(Area*Area) AS SumArea2,\n",
    "               SUM(Perimetro*Perimetro) AS sumPer2,\n",
    "               SUM(Area*Perimetro) AS sumTot,\n",
    "               COUNT(*) AS N\n",
    "         FROM   Paciente\n",
    "        ) dados;"
   ]
  },
  {
   "cell_type": "code",
   "execution_count": null,
   "metadata": {},
   "outputs": [],
   "source": [
    "Concavidade X Area"
   ]
  },
  {
   "cell_type": "code",
   "execution_count": 37,
   "metadata": {},
   "outputs": [
    {
     "data": {
      "text/plain": [
       "0.6859828285519111"
      ]
     },
     "execution_count": 37,
     "metadata": {},
     "output_type": "execute_result"
    }
   ],
   "source": [
    "SELECT ((N*SumTot)-(SumArea*SumPer))/(SQRT(N*SumArea2-SumArea*sumArea)*SQRT(N*SumPer2-SumPer*sumPer))\n",
    "FROM   (SELECT SUM(Area) AS SumArea,\n",
    "               SUM(Concavidade) AS sumPer,\n",
    "               SUM(Area*Area) AS SumArea2,\n",
    "               SUM(Concavidade*Concavidade) AS sumPer2,\n",
    "               SUM(Area*Concavidade) AS sumTot,\n",
    "               COUNT(*) AS N\n",
    "         FROM   Paciente\n",
    "        ) dados;"
   ]
  },
  {
   "cell_type": "code",
   "execution_count": null,
   "metadata": {},
   "outputs": [],
   "source": [
    "PontosConcavos X Area"
   ]
  },
  {
   "cell_type": "code",
   "execution_count": 38,
   "metadata": {},
   "outputs": [
    {
     "data": {
      "text/plain": [
       "0.8232688686524332"
      ]
     },
     "execution_count": 38,
     "metadata": {},
     "output_type": "execute_result"
    }
   ],
   "source": [
    "SELECT ((N*SumTot)-(SumArea*SumPer))/(SQRT(N*SumArea2-SumArea*sumArea)*SQRT(N*SumPer2-SumPer*sumPer))\n",
    "FROM   (SELECT SUM(Area) AS SumArea,\n",
    "               SUM(PontosConcavos) AS sumPer,\n",
    "               SUM(Area*Area) AS SumArea2,\n",
    "               SUM(PontosConcavos*PontosConcavos) AS sumPer2,\n",
    "               SUM(Area*PontosConcavos) AS sumTot,\n",
    "               COUNT(*) AS N\n",
    "         FROM   Paciente\n",
    "        ) dados;"
   ]
  },
  {
   "cell_type": "code",
   "execution_count": null,
   "metadata": {},
   "outputs": [],
   "source": [
    "Compacidade X Area"
   ]
  },
  {
   "cell_type": "code",
   "execution_count": 34,
   "metadata": {},
   "outputs": [
    {
     "data": {
      "text/plain": [
       "0.4985016821524117"
      ]
     },
     "execution_count": 34,
     "metadata": {},
     "output_type": "execute_result"
    }
   ],
   "source": [
    "SELECT ((N*SumTot)-(SumArea*SumPer))/(SQRT(N*SumArea2-SumArea*sumArea)*SQRT(N*SumPer2-SumPer*sumPer))\n",
    "FROM   (SELECT SUM(Area) AS SumArea,\n",
    "               SUM(Compacidade) AS sumPer,\n",
    "               SUM(Area*Area) AS SumArea2,\n",
    "               SUM(Compacidade*Compacidade) AS sumPer2,\n",
    "               SUM(Area*Compacidade) AS sumTot,\n",
    "               COUNT(*) AS N\n",
    "         FROM   Paciente\n",
    "        ) dados;"
   ]
  },
  {
   "cell_type": "code",
   "execution_count": null,
   "metadata": {},
   "outputs": [],
   "source": [
    "Textura X Area"
   ]
  },
  {
   "cell_type": "code",
   "execution_count": 40,
   "metadata": {},
   "outputs": [
    {
     "data": {
      "text/plain": [
       "0.321085696080207"
      ]
     },
     "execution_count": 40,
     "metadata": {},
     "output_type": "execute_result"
    }
   ],
   "source": [
    "SELECT ((N*SumTot)-(SumArea*SumPer))/(SQRT(N*SumArea2-SumArea*sumArea)*SQRT(N*SumPer2-SumPer*sumPer))\n",
    "FROM   (SELECT SUM(Area) AS SumArea,\n",
    "               SUM(Textura) AS sumPer,\n",
    "               SUM(Area*Area) AS SumArea2,\n",
    "               SUM(Textura*Textura) AS sumPer2,\n",
    "               SUM(Area*Textura) AS sumTot,\n",
    "               COUNT(*) AS N\n",
    "         FROM   Paciente\n",
    "        ) dados;"
   ]
  },
  {
   "cell_type": "code",
   "execution_count": null,
   "metadata": {},
   "outputs": [],
   "source": [
    "DimensaoFractal X Area"
   ]
  },
  {
   "cell_type": "code",
   "execution_count": 43,
   "metadata": {},
   "outputs": [
    {
     "data": {
      "text/plain": [
       "-0.2831098116914262"
      ]
     },
     "execution_count": 43,
     "metadata": {},
     "output_type": "execute_result"
    }
   ],
   "source": [
    "SELECT ((N*SumTot)-(SumArea*SumPer))/(SQRT(N*SumArea2-SumArea*sumArea)*SQRT(N*SumPer2-SumPer*sumPer))\n",
    "FROM   (SELECT SUM(Area) AS SumArea,\n",
    "               SUM(DimensaoFractal) AS sumPer,\n",
    "               SUM(Area*Area) AS SumArea2,\n",
    "               SUM(DimensaoFractal*DimensaoFractal) AS sumPer2,\n",
    "               SUM(Area*DimensaoFractal) AS sumTot,\n",
    "               COUNT(*) AS N\n",
    "         FROM   Paciente\n",
    "        ) dados;"
   ]
  },
  {
   "cell_type": "code",
   "execution_count": null,
   "metadata": {},
   "outputs": [],
   "source": [
    "Suavidade X Area"
   ]
  },
  {
   "cell_type": "code",
   "execution_count": 39,
   "metadata": {},
   "outputs": [
    {
     "data": {
      "text/plain": [
       "0.17702837725400117"
      ]
     },
     "execution_count": 39,
     "metadata": {},
     "output_type": "execute_result"
    }
   ],
   "source": [
    "SELECT ((N*SumTot)-(SumArea*SumPer))/(SQRT(N*SumArea2-SumArea*sumArea)*SQRT(N*SumPer2-SumPer*sumPer))\n",
    "FROM   (SELECT SUM(Area) AS SumArea,\n",
    "               SUM(Suavidade) AS sumPer,\n",
    "               SUM(Area*Area) AS SumArea2,\n",
    "               SUM(Suavidade*Suavidade) AS sumPer2,\n",
    "               SUM(Area*Suavidade) AS sumTot,\n",
    "               COUNT(*) AS N\n",
    "         FROM   Paciente\n",
    "        ) dados;"
   ]
  },
  {
   "cell_type": "code",
   "execution_count": null,
   "metadata": {},
   "outputs": [],
   "source": [
    "Simetria X Area"
   ]
  },
  {
   "cell_type": "code",
   "execution_count": 41,
   "metadata": {},
   "outputs": [
    {
     "data": {
      "text/plain": [
       "0.1512930790351122"
      ]
     },
     "execution_count": 41,
     "metadata": {},
     "output_type": "execute_result"
    }
   ],
   "source": [
    "SELECT ((N*SumTot)-(SumArea*SumPer))/(SQRT(N*SumArea2-SumArea*sumArea)*SQRT(N*SumPer2-SumPer*sumPer))\n",
    "FROM   (SELECT SUM(Area) AS SumArea,\n",
    "               SUM(Simetria) AS sumPer,\n",
    "               SUM(Area*Area) AS SumArea2,\n",
    "               SUM(Simetria*Simetria) AS sumPer2,\n",
    "               SUM(Area*Simetria) AS sumTot,\n",
    "               COUNT(*) AS N\n",
    "         FROM   Paciente\n",
    "        ) dados;"
   ]
  }
 ],
 "metadata": {
  "kernelspec": {
   "display_name": "SQL",
   "language": "SQL",
   "name": "sql"
  },
  "language_info": {
   "codemirror_mode": "sql",
   "file_extension": ".sql",
   "mimetype": "",
   "name": "SQL",
   "nbconverter_exporter": "",
   "version": ""
  },
  "toc": {
   "base_numbering": 1,
   "nav_menu": {},
   "number_sections": false,
   "sideBar": false,
   "skip_h1_title": false,
   "title_cell": "Table of Contents",
   "title_sidebar": "Contents",
   "toc_cell": false,
   "toc_position": {},
   "toc_section_display": false,
   "toc_window_display": false
  }
 },
 "nbformat": 4,
 "nbformat_minor": 2
}
